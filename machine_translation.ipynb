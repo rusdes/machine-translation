{
 "cells": [
  {
   "cell_type": "markdown",
   "metadata": {
    "collapsed": true
   },
   "source": [
    "# Artificial Intelligence Nanodegree\n",
    "## Machine Translation Project\n",
    "\n",
    "## Introduction\n",
    "A deep neural network that functions as part of an end-to-end machine translation pipeline. The pipeline accepts English text as input and return the French translation.\n",
    "\n",
    "- **Preprocess** - Convert text to sequence of integers.\n",
    "- **Models** Create models which accepts a sequence of integers as input and returns a probability distribution over possible translations.\n",
    "- **Prediction** Run the model on English text."
   ]
  },
  {
   "cell_type": "code",
   "execution_count": 1,
   "metadata": {},
   "outputs": [
    {
     "name": "stderr",
     "output_type": "stream",
     "text": [
      "Using TensorFlow backend.\n"
     ]
    }
   ],
   "source": [
    "import collections\n",
    "\n",
    "import numpy as np\n",
    "import os\n",
    "from keras.preprocessing.text import Tokenizer\n",
    "from keras.preprocessing.sequence import pad_sequences\n",
    "from keras.models import Model\n",
    "from keras.layers import GRU, Input, Dense, TimeDistributed, Activation, RepeatVector, Bidirectional, Embedding\n",
    "from keras.optimizers import Adam\n",
    "from keras.losses import sparse_categorical_crossentropy"
   ]
  },
  {
   "cell_type": "markdown",
   "metadata": {},
   "source": [
    "### Verify access to the GPU"
   ]
  },
  {
   "cell_type": "code",
   "execution_count": 2,
   "metadata": {},
   "outputs": [
    {
     "name": "stdout",
     "output_type": "stream",
     "text": [
      "[name: \"/device:CPU:0\"\n",
      "device_type: \"CPU\"\n",
      "memory_limit: 268435456\n",
      "locality {\n",
      "}\n",
      "incarnation: 1194811475330217717\n",
      ", name: \"/device:XLA_CPU:0\"\n",
      "device_type: \"XLA_CPU\"\n",
      "memory_limit: 17179869184\n",
      "locality {\n",
      "}\n",
      "incarnation: 371683774630322430\n",
      "physical_device_desc: \"device: XLA_CPU device\"\n",
      ", name: \"/device:GPU:0\"\n",
      "device_type: \"GPU\"\n",
      "memory_limit: 2541355008\n",
      "locality {\n",
      "  bus_id: 1\n",
      "  links {\n",
      "  }\n",
      "}\n",
      "incarnation: 9698619487449847594\n",
      "physical_device_desc: \"device: 0, name: GeForce GTX 1050, pci bus id: 0000:01:00.0, compute capability: 6.1\"\n",
      ", name: \"/device:XLA_GPU:0\"\n",
      "device_type: \"XLA_GPU\"\n",
      "memory_limit: 17179869184\n",
      "locality {\n",
      "}\n",
      "incarnation: 15909339003377872311\n",
      "physical_device_desc: \"device: XLA_GPU device\"\n",
      "]\n"
     ]
    }
   ],
   "source": [
    "from tensorflow.python.client import device_lib\n",
    "print(device_lib.list_local_devices())"
   ]
  },
  {
   "cell_type": "markdown",
   "metadata": {},
   "source": [
    "## Dataset\n",
    "We begin by investigating the dataset that will be used to train and evaluate your pipeline.\n",
    "### Load Data\n",
    "The data is located in `data/small_vocab_en` and `data/small_vocab_fr`. The `small_vocab_en` file contains English sentences with their French translations in the `small_vocab_fr` file."
   ]
  },
  {
   "cell_type": "code",
   "execution_count": 3,
   "metadata": {},
   "outputs": [],
   "source": [
    "def load_data(path):\n",
    "    \"\"\"\n",
    "    Load dataset\n",
    "    \"\"\"\n",
    "    input_file = os.path.join(path)\n",
    "    with open(input_file, \"r\") as f:\n",
    "        data = f.read()\n",
    "\n",
    "    return data.split('\\n')"
   ]
  },
  {
   "cell_type": "code",
   "execution_count": 4,
   "metadata": {},
   "outputs": [
    {
     "name": "stdout",
     "output_type": "stream",
     "text": [
      "Dataset Loaded\n"
     ]
    }
   ],
   "source": [
    "# Load English data\n",
    "english_sentences = load_data('data/small_vocab_en')\n",
    "# Load French data\n",
    "french_sentences = load_data('data/small_vocab_fr')\n",
    "\n",
    "print('Dataset Loaded')"
   ]
  },
  {
   "cell_type": "markdown",
   "metadata": {},
   "source": [
    "### Files\n",
    "Each line in `small_vocab_en` contains an English sentence with the respective translation in each line of `small_vocab_fr`.  View the first two lines from each file."
   ]
  },
  {
   "cell_type": "code",
   "execution_count": 5,
   "metadata": {},
   "outputs": [
    {
     "name": "stdout",
     "output_type": "stream",
     "text": [
      "small_vocab_en Line 1:  new jersey is sometimes quiet during autumn , and it is snowy in april .\n",
      "small_vocab_fr Line 1:  new jersey est parfois calme pendant l' automne , et il est neigeux en avril .\n",
      "small_vocab_en Line 2:  the united states is usually chilly during july , and it is usually freezing in november .\n",
      "small_vocab_fr Line 2:  les états-unis est généralement froid en juillet , et il gèle habituellement en novembre .\n"
     ]
    }
   ],
   "source": [
    "for sample_i in range(2):\n",
    "    print('small_vocab_en Line {}:  {}'.format(sample_i + 1, english_sentences[sample_i]))\n",
    "    print('small_vocab_fr Line {}:  {}'.format(sample_i + 1, french_sentences[sample_i]))"
   ]
  },
  {
   "cell_type": "markdown",
   "metadata": {},
   "source": [
    "The puncuations have been delimited using spaces. All the text have been converted to lowercase. But the text requires more preprocessing.\n",
    "### Vocabulary\n",
    "The complexity of the problem is determined by the complexity of the vocabulary.  A more complex vocabulary is a more complex problem.  Let's look at the complexity of the dataset we'll be working with."
   ]
  },
  {
   "cell_type": "code",
   "execution_count": 6,
   "metadata": {},
   "outputs": [
    {
     "name": "stdout",
     "output_type": "stream",
     "text": [
      "1823250 English words.\n",
      "227 unique English words.\n",
      "10 Most common words in the English dataset:\n",
      "\"is\" \",\" \".\" \"in\" \"it\" \"during\" \"the\" \"but\" \"and\" \"sometimes\"\n",
      "\n",
      "1961295 French words.\n",
      "355 unique French words.\n",
      "10 Most common words in the French dataset:\n",
      "\"est\" \".\" \",\" \"en\" \"il\" \"les\" \"mais\" \"et\" \"la\" \"parfois\"\n"
     ]
    }
   ],
   "source": [
    "english_words_counter = collections.Counter([word for sentence in english_sentences for word in sentence.split()])\n",
    "french_words_counter = collections.Counter([word for sentence in french_sentences for word in sentence.split()])\n",
    "\n",
    "print('{} English words.'.format(len([word for sentence in english_sentences for word in sentence.split()])))\n",
    "print('{} unique English words.'.format(len(english_words_counter)))\n",
    "print('10 Most common words in the English dataset:')\n",
    "print('\"' + '\" \"'.join(list(zip(*english_words_counter.most_common(10)))[0]) + '\"')\n",
    "print()\n",
    "print('{} French words.'.format(len([word for sentence in french_sentences for word in sentence.split()])))\n",
    "print('{} unique French words.'.format(len(french_words_counter)))\n",
    "print('10 Most common words in the French dataset:')\n",
    "print('\"' + '\" \"'.join(list(zip(*french_words_counter.most_common(10)))[0]) + '\"')"
   ]
  },
  {
   "cell_type": "markdown",
   "metadata": {},
   "source": [
    "## Preprocess\n",
    "We convert the text into sequences of integers using the following preprocess methods:\n",
    "1. Tokenize the words into ids\n",
    "2. Add padding to make all the sequences the same length.\n",
    "\n",
    "### Tokenize\n",
    "\n",
    "We can turn each character into a number or each word into a number.  These are called character and word ids, respectively.  Character ids are used for character level models that generate text predictions for each character.  A word level model uses word ids that generate text predictions for each word.  Word level models tend to learn better, since they are lower in complexity, so we use those.\n",
    "\n",
    "We turn each sentence into a sequence of words ids using Keras's [`Tokenizer`](https://keras.io/preprocessing/text/#tokenizer) function."
   ]
  },
  {
   "cell_type": "code",
   "execution_count": 7,
   "metadata": {},
   "outputs": [
    {
     "name": "stdout",
     "output_type": "stream",
     "text": [
      "{'the': 1, 'quick': 2, 'a': 3, 'brown': 4, 'fox': 5, 'jumps': 6, 'over': 7, 'lazy': 8, 'dog': 9, 'by': 10, 'jove': 11, 'my': 12, 'study': 13, 'of': 14, 'lexicography': 15, 'won': 16, 'prize': 17, 'this': 18, 'is': 19, 'short': 20, 'sentence': 21}\n",
      "\n",
      "Sequence 1 in x\n",
      "  Input:  The quick brown fox jumps over the lazy dog .\n",
      "  Output: [1, 2, 4, 5, 6, 7, 1, 8, 9]\n",
      "Sequence 2 in x\n",
      "  Input:  By Jove , my quick study of lexicography won a prize .\n",
      "  Output: [10, 11, 12, 2, 13, 14, 15, 16, 3, 17]\n",
      "Sequence 3 in x\n",
      "  Input:  This is a short sentence .\n",
      "  Output: [18, 19, 3, 20, 21]\n"
     ]
    }
   ],
   "source": [
    "def tokenize(x):\n",
    "    x_tk = Tokenizer()\n",
    "    x_tk.fit_on_texts(x)\n",
    "   \n",
    "    return x_tk.texts_to_sequences(x), x_tk\n",
    "\n",
    "# Tokenize Example output\n",
    "text_sentences = [\n",
    "    'The quick brown fox jumps over the lazy dog .',\n",
    "    'By Jove , my quick study of lexicography won a prize .',\n",
    "    'This is a short sentence .']\n",
    "text_tokenized, text_tokenizer = tokenize(text_sentences)\n",
    "print(text_tokenizer.word_index)\n",
    "print()\n",
    "for sample_i, (sent, token_sent) in enumerate(zip(text_sentences, text_tokenized)):\n",
    "    print('Sequence {} in x'.format(sample_i + 1))\n",
    "    print('  Input:  {}'.format(sent))\n",
    "    print('  Output: {}'.format(token_sent))"
   ]
  },
  {
   "cell_type": "markdown",
   "metadata": {},
   "source": [
    "### Padding\n",
    "When batching the sequence of word ids together, each sequence needs to be the same length.  Since sentences are dynamic in length, we can add padding to the end of the sequences to make them the same length.\n",
    "\n",
    "We make sure all the English sequences have the same length and all the French sequences have the same length by adding padding to the **end** of each sequence using Keras's [`pad_sequences`](https://keras.io/preprocessing/sequence/#pad_sequences) function."
   ]
  },
  {
   "cell_type": "code",
   "execution_count": 8,
   "metadata": {},
   "outputs": [
    {
     "name": "stdout",
     "output_type": "stream",
     "text": [
      "Sequence 1 in x\n",
      "  Input:  [1 2 4 5 6 7 1 8 9]\n",
      "  Output: [1 2 4 5 6 7 1 8 9 0]\n",
      "Sequence 2 in x\n",
      "  Input:  [10 11 12  2 13 14 15 16  3 17]\n",
      "  Output: [10 11 12  2 13 14 15 16  3 17]\n",
      "Sequence 3 in x\n",
      "  Input:  [18 19  3 20 21]\n",
      "  Output: [18 19  3 20 21  0  0  0  0  0]\n"
     ]
    }
   ],
   "source": [
    "def pad(x, length=None):\n",
    "    if length is None:\n",
    "        length = max([len(sentence) for sentence in x])\n",
    "    \n",
    "    # Then, pass it to pad_sentences as the maxlen parameter\n",
    "    x = pad_sequences(x, maxlen=length, padding=\"post\")\n",
    "    \n",
    "    return x\n",
    "\n",
    "# Pad Tokenized output\n",
    "test_pad = pad(text_tokenized)\n",
    "for sample_i, (token_sent, pad_sent) in enumerate(zip(text_tokenized, test_pad)):\n",
    "    print('Sequence {} in x'.format(sample_i + 1))\n",
    "    print('  Input:  {}'.format(np.array(token_sent)))\n",
    "    print('  Output: {}'.format(pad_sent))"
   ]
  },
  {
   "cell_type": "markdown",
   "metadata": {},
   "source": [
    "### Preprocess Pipeline"
   ]
  },
  {
   "cell_type": "code",
   "execution_count": 9,
   "metadata": {},
   "outputs": [
    {
     "name": "stdout",
     "output_type": "stream",
     "text": [
      "Data Preprocessed\n",
      "Max English sentence length: 15\n",
      "Max French sentence length: 21\n",
      "English vocabulary size: 199\n",
      "French vocabulary size: 344\n"
     ]
    }
   ],
   "source": [
    "def preprocess(x, y):\n",
    "    \"\"\"\n",
    "    Preprocess x and y\n",
    "    :param x: Feature List of sentences\n",
    "    :param y: Label List of sentences\n",
    "    :return: Tuple of (Preprocessed x, Preprocessed y, x tokenizer, y tokenizer)\n",
    "    \"\"\"\n",
    "    preprocess_x, x_tk = tokenize(x)\n",
    "    preprocess_y, y_tk = tokenize(y)\n",
    "\n",
    "    preprocess_x = pad(preprocess_x)\n",
    "    preprocess_y = pad(preprocess_y)\n",
    "\n",
    "    # Keras's sparse_categorical_crossentropy function requires the labels to be in 3 dimensions\n",
    "    preprocess_y = preprocess_y.reshape(*preprocess_y.shape, 1)\n",
    "\n",
    "    return preprocess_x, preprocess_y, x_tk, y_tk\n",
    "\n",
    "preproc_english_sentences, preproc_french_sentences, english_tokenizer, french_tokenizer =\\\n",
    "    preprocess(english_sentences, french_sentences)\n",
    "    \n",
    "max_english_sequence_length = preproc_english_sentences.shape[1]\n",
    "max_french_sequence_length = preproc_french_sentences.shape[1]\n",
    "english_vocab_size = len(english_tokenizer.word_index)\n",
    "french_vocab_size = len(french_tokenizer.word_index)\n",
    "\n",
    "print('Data Preprocessed')\n",
    "print(\"Max English sentence length:\", max_english_sequence_length)\n",
    "print(\"Max French sentence length:\", max_french_sequence_length)\n",
    "print(\"English vocabulary size:\", english_vocab_size)\n",
    "print(\"French vocabulary size:\", french_vocab_size)"
   ]
  },
  {
   "cell_type": "markdown",
   "metadata": {},
   "source": [
    "## Models\n",
    "Experimenting with various neural network architectures.\n",
    "- Model 1: simple RNN\n",
    "- Model 2: a RNN with Embedding\n",
    "- Model 3: a Bidirectional RNN\n",
    "- Model 4: an Encoder-Decoder RNN\n",
    "\n",
    "### Ids Back to Text\n",
    "The neural network will be translating the input to words ids, which isn't the final form we want.  We want the French translation.  The function `logits_to_text` bridges the gab between the logits from the neural network to the French translation."
   ]
  },
  {
   "cell_type": "code",
   "execution_count": 10,
   "metadata": {},
   "outputs": [
    {
     "name": "stdout",
     "output_type": "stream",
     "text": [
      "`logits_to_text` function loaded.\n"
     ]
    }
   ],
   "source": [
    "epochs = 10\n",
    "\n",
    "def logits_to_text(logits, tokenizer):\n",
    "    \"\"\"\n",
    "    Turn logits from a neural network into text using the tokenizer\n",
    "    \"\"\"\n",
    "    index_to_words = {id: word for word, id in tokenizer.word_index.items()}\n",
    "    index_to_words[0] = '<PAD>'\n",
    "\n",
    "    return ' '.join([index_to_words[prediction] for prediction in np.argmax(logits, 1)])\n",
    "\n",
    "print('`logits_to_text` function loaded.')"
   ]
  },
  {
   "cell_type": "markdown",
   "metadata": {},
   "source": [
    "### Model 1: RNN\n",
    "![RNN](images/rnn.png)\n",
    "A basic RNN model is a good baseline for sequence data."
   ]
  },
  {
   "cell_type": "code",
   "execution_count": 11,
   "metadata": {},
   "outputs": [
    {
     "name": "stdout",
     "output_type": "stream",
     "text": [
      "Train on 110288 samples, validate on 27573 samples\n",
      "Epoch 1/10\n",
      "110288/110288 [==============================] - 29s 261us/step - loss: 1.8423 - accuracy: 0.5638 - val_loss: nan - val_accuracy: 0.6220\n",
      "Epoch 2/10\n",
      "110288/110288 [==============================] - 28s 251us/step - loss: 1.2327 - accuracy: 0.6418 - val_loss: nan - val_accuracy: 0.6544\n",
      "Epoch 3/10\n",
      "110288/110288 [==============================] - 27s 247us/step - loss: 1.0772 - accuracy: 0.6674 - val_loss: nan - val_accuracy: 0.6701\n",
      "Epoch 4/10\n",
      "110288/110288 [==============================] - 27s 247us/step - loss: 0.9893 - accuracy: 0.6795 - val_loss: nan - val_accuracy: 0.6769\n",
      "Epoch 5/10\n",
      "110288/110288 [==============================] - 27s 247us/step - loss: 0.9258 - accuracy: 0.6901 - val_loss: nan - val_accuracy: 0.7016\n",
      "Epoch 6/10\n",
      "110288/110288 [==============================] - 27s 247us/step - loss: 0.8739 - accuracy: 0.7017 - val_loss: nan - val_accuracy: 0.7124\n",
      "Epoch 7/10\n",
      "110288/110288 [==============================] - 28s 249us/step - loss: 0.8255 - accuracy: 0.7156 - val_loss: nan - val_accuracy: 0.7295\n",
      "Epoch 8/10\n",
      "110288/110288 [==============================] - 27s 248us/step - loss: 0.7772 - accuracy: 0.7372 - val_loss: nan - val_accuracy: 0.7282\n",
      "Epoch 9/10\n",
      "110288/110288 [==============================] - 27s 248us/step - loss: 0.7209 - accuracy: 0.7642 - val_loss: nan - val_accuracy: 0.7827\n",
      "Epoch 10/10\n",
      "110288/110288 [==============================] - 27s 248us/step - loss: 0.6777 - accuracy: 0.7818 - val_loss: nan - val_accuracy: 0.7876\n",
      "new jersey est parfois calme en l' de l' est neigeux en en <PAD> <PAD> <PAD> <PAD> <PAD> <PAD> <PAD> <PAD>\n"
     ]
    }
   ],
   "source": [
    "from keras import Sequential\n",
    "\n",
    "def simple_model(input_shape, output_sequence_length, english_vocab_size, french_vocab_size):\n",
    "    # Build the layers\n",
    "    learning_rate = 1e-3\n",
    "    model = Sequential()\n",
    "    model.add(GRU(512, return_sequences=True,\n",
    "                  input_shape=input_shape[1:]))\n",
    "    model.add(TimeDistributed(Dense(french_vocab_size)))\n",
    "\n",
    "    model.add(Activation('softmax'))\n",
    "    \n",
    "    model.compile(loss=sparse_categorical_crossentropy,\n",
    "                  optimizer=Adam(learning_rate),\n",
    "                  metrics=['accuracy'])\n",
    "    return model\n",
    "\n",
    "# Reshaping the input to work with a basic RNN\n",
    "tmp_x = pad(preproc_english_sentences, max_french_sequence_length)\n",
    "tmp_x = tmp_x.reshape((-1, preproc_french_sentences.shape[-2], 1))\n",
    "# Train the neural network\n",
    "simple_rnn_model = simple_model(\n",
    "    tmp_x.shape,\n",
    "    max_french_sequence_length,\n",
    "    english_vocab_size,\n",
    "    french_vocab_size)\n",
    "simple_rnn_model.fit(tmp_x, preproc_french_sentences, batch_size=512, epochs=epochs, validation_split=0.2)\n",
    "\n",
    "# Print predictions\n",
    "print(logits_to_text(simple_rnn_model.predict(tmp_x[:1])[0], french_tokenizer))"
   ]
  },
  {
   "cell_type": "markdown",
   "metadata": {},
   "source": [
    "### Model 2: Embedding\n",
    "![RNN](images/embedding.png)\n",
    "An embedding is a vector representation of the word that is close to similar words in n-dimensional space, where the n represents the size of the embedding vectors.\n",
    "\n",
    "We create a RNN model using embedding."
   ]
  },
  {
   "cell_type": "code",
   "execution_count": 12,
   "metadata": {},
   "outputs": [
    {
     "name": "stderr",
     "output_type": "stream",
     "text": [
      "/home/rushil/anaconda3/envs/tf/lib/python3.6/site-packages/tensorflow_core/python/framework/indexed_slices.py:433: UserWarning: Converting sparse IndexedSlices to a dense Tensor of unknown shape. This may consume a large amount of memory.\n",
      "  \"Converting sparse IndexedSlices to a dense Tensor of unknown shape. \"\n"
     ]
    },
    {
     "name": "stdout",
     "output_type": "stream",
     "text": [
      "Train on 110288 samples, validate on 27573 samples\n",
      "Epoch 1/10\n",
      "110288/110288 [==============================] - 28s 258us/step - loss: 2.8046 - accuracy: 0.4658 - val_loss: nan - val_accuracy: 0.5255\n",
      "Epoch 2/10\n",
      "110288/110288 [==============================] - 28s 250us/step - loss: 1.5514 - accuracy: 0.6206 - val_loss: nan - val_accuracy: 0.6948\n",
      "Epoch 3/10\n",
      "110288/110288 [==============================] - 28s 250us/step - loss: 0.9682 - accuracy: 0.7427 - val_loss: nan - val_accuracy: 0.7927\n",
      "Epoch 4/10\n",
      "110288/110288 [==============================] - 28s 250us/step - loss: 0.6256 - accuracy: 0.8291 - val_loss: nan - val_accuracy: 0.8538\n",
      "Epoch 5/10\n",
      "110288/110288 [==============================] - 28s 250us/step - loss: 0.4386 - accuracy: 0.8705 - val_loss: nan - val_accuracy: 0.8831\n",
      "Epoch 6/10\n",
      "110288/110288 [==============================] - 28s 250us/step - loss: 0.3515 - accuracy: 0.8897 - val_loss: nan - val_accuracy: 0.8969\n",
      "Epoch 7/10\n",
      "110288/110288 [==============================] - 28s 250us/step - loss: 0.2999 - accuracy: 0.9034 - val_loss: nan - val_accuracy: 0.9073\n",
      "Epoch 8/10\n",
      "110288/110288 [==============================] - 27s 249us/step - loss: 0.2701 - accuracy: 0.9114 - val_loss: nan - val_accuracy: 0.9154\n",
      "Epoch 9/10\n",
      "110288/110288 [==============================] - 28s 249us/step - loss: 0.2466 - accuracy: 0.9182 - val_loss: nan - val_accuracy: 0.9194\n",
      "Epoch 10/10\n",
      "110288/110288 [==============================] - 28s 250us/step - loss: 0.2313 - accuracy: 0.9225 - val_loss: nan - val_accuracy: 0.9226\n",
      "new jersey est parfois calme au cours automne l' automne et il avril <PAD> <PAD> <PAD> <PAD> <PAD> <PAD> <PAD> <PAD>\n"
     ]
    }
   ],
   "source": [
    "def embed_model(input_shape, output_sequence_length, english_vocab_size, french_vocab_size):\n",
    "    learning_rate = 1e-3\n",
    "    model = Sequential()\n",
    "    model.add(Embedding(english_vocab_size, output_sequence_length, input_length=input_shape[1]))\n",
    "    model.add(GRU(512, return_sequences=True,\n",
    "                  input_shape=input_shape[1:]))\n",
    "    model.add(TimeDistributed(Dense(french_vocab_size)))\n",
    "\n",
    "    model.add(Activation('softmax'))\n",
    "    \n",
    "    model.compile(loss=sparse_categorical_crossentropy,\n",
    "                  optimizer=Adam(learning_rate),\n",
    "                  metrics=['accuracy'])\n",
    "    return model\n",
    "\n",
    "# Reshape the input\n",
    "tmp_x = pad(preproc_english_sentences, max_french_sequence_length)\n",
    "tmp_x = tmp_x.reshape((-1, preproc_french_sentences.shape[-2]))\n",
    "\n",
    "# Train the neural network\n",
    "embed_rnn_model = embed_model(\n",
    "    tmp_x.shape,\n",
    "    max_french_sequence_length,\n",
    "    english_vocab_size,\n",
    "    french_vocab_size)\n",
    "embed_rnn_model.fit(tmp_x, preproc_french_sentences, batch_size=512, epochs=epochs, validation_split=0.2)\n",
    "\n",
    "# Print predictions\n",
    "print(logits_to_text(embed_rnn_model.predict(tmp_x[:1])[0], french_tokenizer))"
   ]
  },
  {
   "cell_type": "markdown",
   "metadata": {},
   "source": [
    "### Model 3: Bidirectional RNNs\n",
    "![RNN](images/bidirectional.png)\n",
    "RNN can't see the future input, only the past.<br>\n",
    "We try bidirectional recurrent neural networks as they are able to see the future data."
   ]
  },
  {
   "cell_type": "code",
   "execution_count": 13,
   "metadata": {},
   "outputs": [
    {
     "name": "stdout",
     "output_type": "stream",
     "text": [
      "Train on 110288 samples, validate on 27573 samples\n",
      "Epoch 1/10\n",
      "110288/110288 [==============================] - 51s 462us/step - loss: 1.5771 - accuracy: 0.6033 - val_loss: nan - val_accuracy: 0.6483\n",
      "Epoch 2/10\n",
      "110288/110288 [==============================] - 52s 468us/step - loss: 1.0936 - accuracy: 0.6721 - val_loss: nan - val_accuracy: 0.6854\n",
      "Epoch 3/10\n",
      "110288/110288 [==============================] - 50s 454us/step - loss: 0.9487 - accuracy: 0.6986 - val_loss: nan - val_accuracy: 0.7039\n",
      "Epoch 4/10\n",
      "110288/110288 [==============================] - 50s 453us/step - loss: 0.8642 - accuracy: 0.7126 - val_loss: nan - val_accuracy: 0.7188\n",
      "Epoch 5/10\n",
      "110288/110288 [==============================] - 50s 453us/step - loss: 0.8015 - accuracy: 0.7257 - val_loss: nan - val_accuracy: 0.7317\n",
      "Epoch 6/10\n",
      "110288/110288 [==============================] - 50s 453us/step - loss: 0.7448 - accuracy: 0.7398 - val_loss: nan - val_accuracy: 0.7451\n",
      "Epoch 7/10\n",
      "110288/110288 [==============================] - 50s 453us/step - loss: 0.6946 - accuracy: 0.7550 - val_loss: nan - val_accuracy: 0.7641\n",
      "Epoch 8/10\n",
      "110288/110288 [==============================] - 50s 454us/step - loss: 0.6469 - accuracy: 0.7746 - val_loss: nan - val_accuracy: 0.7620\n",
      "Epoch 9/10\n",
      "110288/110288 [==============================] - 50s 453us/step - loss: 0.6024 - accuracy: 0.7937 - val_loss: nan - val_accuracy: 0.7998\n",
      "Epoch 10/10\n",
      "110288/110288 [==============================] - 50s 454us/step - loss: 0.5476 - accuracy: 0.8192 - val_loss: nan - val_accuracy: 0.8306\n",
      "new jersey est parfois calme en cours de l' automne il en en <PAD> <PAD> <PAD> <PAD> <PAD> <PAD> <PAD> <PAD>\n"
     ]
    }
   ],
   "source": [
    "def bd_model(input_shape, output_sequence_length, english_vocab_size, french_vocab_size):\n",
    "    learning_rate = 1e-3\n",
    "    model = Sequential()\n",
    "    model.add(Bidirectional(GRU(512, return_sequences=True),\n",
    "                  input_shape=input_shape[1:]))\n",
    "    \n",
    "    model.add(TimeDistributed(Dense(french_vocab_size)))\n",
    "\n",
    "    model.add(Activation('softmax'))\n",
    "    \n",
    "    model.compile(loss=sparse_categorical_crossentropy,\n",
    "                  optimizer=Adam(learning_rate),\n",
    "                  metrics=['accuracy'])\n",
    "    return model\n",
    "\n",
    "# Train and Print prediction(s)\n",
    "tmp_x = pad(preproc_english_sentences, max_french_sequence_length)\n",
    "tmp_x = tmp_x.reshape((-1, preproc_french_sentences.shape[-2], 1))\n",
    "# Train the neural network\n",
    "bd_rnn_model = bd_model(\n",
    "    tmp_x.shape,\n",
    "    max_french_sequence_length,\n",
    "    english_vocab_size,\n",
    "    french_vocab_size)\n",
    "bd_rnn_model.fit(tmp_x, preproc_french_sentences, batch_size=512, epochs=epochs, validation_split=0.2)\n",
    "\n",
    "# Print prediction(s)\n",
    "print(logits_to_text(bd_rnn_model.predict(tmp_x[:1])[0], french_tokenizer))"
   ]
  },
  {
   "cell_type": "markdown",
   "metadata": {},
   "source": [
    "### Model 4: Encoder-Decoder\n",
    "This model is made up of an encoder and decoder. The encoder creates a matrix representation of the sentence.  The decoder takes this matrix as input and predicts the translation as output."
   ]
  },
  {
   "cell_type": "code",
   "execution_count": 14,
   "metadata": {},
   "outputs": [
    {
     "name": "stdout",
     "output_type": "stream",
     "text": [
      "Train on 110288 samples, validate on 27573 samples\n",
      "Epoch 1/10\n",
      "110288/110288 [==============================] - 74s 672us/step - loss: 2.0114 - accuracy: 0.5340 - val_loss: nan - val_accuracy: 0.6068\n",
      "Epoch 2/10\n",
      "110288/110288 [==============================] - 73s 658us/step - loss: 1.3598 - accuracy: 0.6230 - val_loss: nan - val_accuracy: 0.6377\n",
      "Epoch 3/10\n",
      "110288/110288 [==============================] - 73s 658us/step - loss: 1.2256 - accuracy: 0.6518 - val_loss: nan - val_accuracy: 0.6646\n",
      "Epoch 4/10\n",
      "110288/110288 [==============================] - 73s 657us/step - loss: 1.1486 - accuracy: 0.6682 - val_loss: nan - val_accuracy: 0.6674\n",
      "Epoch 5/10\n",
      "110288/110288 [==============================] - 73s 658us/step - loss: 1.0470 - accuracy: 0.6884 - val_loss: nan - val_accuracy: 0.6931\n",
      "Epoch 6/10\n",
      "110288/110288 [==============================] - 73s 657us/step - loss: 1.0097 - accuracy: 0.6890 - val_loss: nan - val_accuracy: 0.7070\n",
      "Epoch 7/10\n",
      "110288/110288 [==============================] - 73s 658us/step - loss: 0.8925 - accuracy: 0.7173 - val_loss: nan - val_accuracy: 0.7247\n",
      "Epoch 8/10\n",
      "110288/110288 [==============================] - 73s 658us/step - loss: 0.8272 - accuracy: 0.7308 - val_loss: nan - val_accuracy: 0.7361\n",
      "Epoch 9/10\n",
      "110288/110288 [==============================] - 73s 657us/step - loss: 0.7463 - accuracy: 0.7494 - val_loss: nan - val_accuracy: 0.7525\n",
      "Epoch 10/10\n",
      "110288/110288 [==============================] - 74s 670us/step - loss: 0.6877 - accuracy: 0.7626 - val_loss: nan - val_accuracy: 0.7635\n",
      "new jersey est parfois calme en l' de il est est en en <PAD> <PAD> <PAD> <PAD> <PAD> <PAD> <PAD> <PAD>\n"
     ]
    }
   ],
   "source": [
    "def encdec_model(input_shape, output_sequence_length, english_vocab_size, french_vocab_size):\n",
    "    learning_rate = 1e-3\n",
    "\n",
    "        \n",
    "    model = Sequential()\n",
    "    # encoder\n",
    "    model.add(Bidirectional(GRU(512, return_sequences=False),\n",
    "                  input_shape=input_shape[1:]))\n",
    "    model.add(Dense(french_vocab_size))\n",
    "    model.add(Activation('relu'))\n",
    "    \n",
    "    # decoder\n",
    "    model.add(RepeatVector(output_sequence_length))\n",
    "    model.add(GRU(512, return_sequences=True))\n",
    "    model.add(TimeDistributed(Dense(french_vocab_size)))\n",
    "    model.add(Activation('softmax'))\n",
    "\n",
    "    model.compile(loss=sparse_categorical_crossentropy,\n",
    "                  optimizer=Adam(learning_rate),\n",
    "                  metrics=['accuracy'])\n",
    "    return model\n",
    "\n",
    "tmp_x = pad(preproc_english_sentences, max_french_sequence_length)\n",
    "tmp_x = tmp_x.reshape((-1, preproc_french_sentences.shape[-2], 1))\n",
    "\n",
    "# Build the model\n",
    "encdec_rnn_model = encdec_model(\n",
    "    tmp_x.shape,\n",
    "    max_french_sequence_length,\n",
    "    english_vocab_size,\n",
    "    french_vocab_size)\n",
    "\n",
    "# Train the neural network\n",
    "encdec_rnn_model.fit(tmp_x, preproc_french_sentences, batch_size=512, epochs=epochs, validation_split=0.2)\n",
    "\n",
    "# Print prediction(s)\n",
    "print(logits_to_text(encdec_rnn_model.predict(tmp_x[:1])[0], french_tokenizer))"
   ]
  },
  {
   "cell_type": "markdown",
   "metadata": {},
   "source": [
    "### Model 5: Custom"
   ]
  },
  {
   "cell_type": "code",
   "execution_count": 15,
   "metadata": {},
   "outputs": [
    {
     "name": "stdout",
     "output_type": "stream",
     "text": [
      "Final Model Loaded\n"
     ]
    }
   ],
   "source": [
    "def model_final(input_shape, output_sequence_length, english_vocab_size, french_vocab_size):\n",
    "    learning_rate = 1e-3\n",
    "    \n",
    "    model = Sequential()\n",
    "    # encoder\n",
    "    model.add(Embedding(input_dim=english_vocab_size, output_dim=512,\n",
    "                        input_length=input_shape[1:][0]))\n",
    "    model.add(Bidirectional(GRU(512),\n",
    "                  input_shape=input_shape[1:]))\n",
    "    model.add(Dense(french_vocab_size))\n",
    "    model.add(Activation('relu'))\n",
    "    \n",
    "    # decoder\n",
    "    model.add(RepeatVector(output_sequence_length))\n",
    "    model.add(Bidirectional(GRU(512, return_sequences=True)))\n",
    "    model.add(TimeDistributed(Dense(french_vocab_size)))\n",
    "    model.add(Activation('softmax'))\n",
    "\n",
    "    model.compile(loss=sparse_categorical_crossentropy,\n",
    "                  optimizer=Adam(learning_rate),\n",
    "                  metrics=['accuracy'])\n",
    "    return model\n",
    "\n",
    "print('Final Model Loaded')"
   ]
  },
  {
   "cell_type": "markdown",
   "metadata": {},
   "source": [
    "## Prediction"
   ]
  },
  {
   "cell_type": "code",
   "execution_count": 16,
   "metadata": {},
   "outputs": [
    {
     "name": "stderr",
     "output_type": "stream",
     "text": [
      "/home/rushil/anaconda3/envs/tf/lib/python3.6/site-packages/tensorflow_core/python/framework/indexed_slices.py:433: UserWarning: Converting sparse IndexedSlices to a dense Tensor of unknown shape. This may consume a large amount of memory.\n",
      "  \"Converting sparse IndexedSlices to a dense Tensor of unknown shape. \"\n"
     ]
    },
    {
     "name": "stdout",
     "output_type": "stream",
     "text": [
      "Train on 110288 samples, validate on 27573 samples\n",
      "Epoch 1/10\n",
      "110288/110288 [==============================] - 103s 931us/step - loss: 1.9114 - accuracy: 0.5591 - val_loss: nan - val_accuracy: 0.6714\n",
      "Epoch 2/10\n",
      "110288/110288 [==============================] - 100s 911us/step - loss: 1.0044 - accuracy: 0.7128 - val_loss: nan - val_accuracy: 0.7441\n",
      "Epoch 3/10\n",
      "110288/110288 [==============================] - 100s 911us/step - loss: 0.7475 - accuracy: 0.7756 - val_loss: nan - val_accuracy: 0.8087\n",
      "Epoch 4/10\n",
      "110288/110288 [==============================] - 100s 911us/step - loss: 0.5359 - accuracy: 0.8380 - val_loss: nan - val_accuracy: 0.8634\n",
      "Epoch 5/10\n",
      "110288/110288 [==============================] - 100s 911us/step - loss: 0.3548 - accuracy: 0.8951 - val_loss: nan - val_accuracy: 0.9125\n",
      "Epoch 6/10\n",
      "110288/110288 [==============================] - 100s 911us/step - loss: 0.2280 - accuracy: 0.9347 - val_loss: nan - val_accuracy: 0.9478\n",
      "Epoch 7/10\n",
      "110288/110288 [==============================] - 100s 911us/step - loss: 0.1643 - accuracy: 0.9526 - val_loss: nan - val_accuracy: 0.9450\n",
      "Epoch 8/10\n",
      "110288/110288 [==============================] - 100s 911us/step - loss: 0.1245 - accuracy: 0.9633 - val_loss: nan - val_accuracy: 0.9639\n",
      "Epoch 9/10\n",
      "110288/110288 [==============================] - 101s 912us/step - loss: 0.1004 - accuracy: 0.9699 - val_loss: nan - val_accuracy: 0.9658\n",
      "Epoch 10/10\n",
      "110288/110288 [==============================] - 101s 912us/step - loss: 0.0873 - accuracy: 0.9735 - val_loss: nan - val_accuracy: 0.9692\n",
      "Sample 1:\n",
      "il a vu un vieux camion jaune <PAD> <PAD> <PAD> <PAD> <PAD> <PAD> <PAD> <PAD> <PAD> <PAD> <PAD> <PAD> <PAD> <PAD>\n",
      "Il a vu un vieux camion jaune\n",
      "Sample 2:\n",
      "new jersey est parfois calme pendant l' automne et il est neigeux en avril <PAD> <PAD> <PAD> <PAD> <PAD> <PAD> <PAD>\n",
      "new jersey est parfois calme pendant l' automne et il est neigeux en avril <PAD> <PAD> <PAD> <PAD> <PAD> <PAD> <PAD>\n"
     ]
    }
   ],
   "source": [
    "def final_predictions(x, y, x_tk, y_tk):\n",
    "    # Train neural network using model_final\n",
    "    model = model_final(x.shape,\n",
    "                        y.shape[1],\n",
    "                        len(x_tk.word_index),\n",
    "                        len(y_tk.word_index))\n",
    "    \n",
    "    model.fit(x, y, batch_size=512, epochs=epochs, validation_split=0.2)\n",
    "\n",
    "\n",
    "    \n",
    "    y_id_to_word = {value: key for key, value in y_tk.word_index.items()}\n",
    "    y_id_to_word[0] = '<PAD>'\n",
    "\n",
    "    sentence = 'he saw a old yellow truck'\n",
    "    sentence = [x_tk.word_index[word] for word in sentence.split()]\n",
    "    sentence = pad_sequences([sentence], maxlen=x.shape[-1], padding='post')\n",
    "    sentences = np.array([sentence[0], x[0]])\n",
    "    predictions = model.predict(sentences, len(sentences))\n",
    "\n",
    "    print('Sample 1:')\n",
    "    print(' '.join([y_id_to_word[np.argmax(x)] for x in predictions[0]]))\n",
    "    print('Il a vu un vieux camion jaune')\n",
    "    print('Sample 2:')\n",
    "    print(' '.join([y_id_to_word[np.argmax(x)] for x in predictions[1]]))\n",
    "    print(' '.join([y_id_to_word[np.max(x)] for x in y[0]]))\n",
    "\n",
    "\n",
    "final_predictions(preproc_english_sentences, preproc_french_sentences, english_tokenizer, french_tokenizer)"
   ]
  }
 ],
 "metadata": {
  "kernelspec": {
   "display_name": "Python 3",
   "language": "python",
   "name": "python3"
  },
  "language_info": {
   "codemirror_mode": {
    "name": "ipython",
    "version": 3
   },
   "file_extension": ".py",
   "mimetype": "text/x-python",
   "name": "python",
   "nbconvert_exporter": "python",
   "pygments_lexer": "ipython3",
   "version": "3.6.12"
  }
 },
 "nbformat": 4,
 "nbformat_minor": 1
}
